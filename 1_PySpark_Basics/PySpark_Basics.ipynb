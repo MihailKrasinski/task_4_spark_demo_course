{
 "cells": [
  {
   "cell_type": "markdown",
   "id": "trained-moses",
   "metadata": {},
   "source": [
    "import libraries(I provide all libs that I need when make this tasks, if you need some external import them here)"
   ]
  },
  {
   "cell_type": "code",
   "execution_count": 32,
   "id": "induced-african",
   "metadata": {},
   "outputs": [],
   "source": [
    "import pyspark\n",
    "from pyspark.sql import SparkSession\n",
    "from pyspark.sql.types import StructType, StructField, IntegerType, StringType\n",
    "from pyspark.sql.functions import col\n",
    "from pyspark.sql.functions import max, avg, min\n",
    "from pyspark.sql.window import Window\n",
    "from pyspark.sql.functions import row_number, desc\n",
    "from pyspark.sql.functions import when\n",
    "\n",
    "PATH = 'ds_salaries.csv'"
   ]
  },
  {
   "cell_type": "markdown",
   "id": "permanent-photographer",
   "metadata": {},
   "source": [
    "create local SparkSession"
   ]
  },
  {
   "cell_type": "code",
   "execution_count": 33,
   "id": "stock-partnership",
   "metadata": {},
   "outputs": [],
   "source": [
    "spark=SparkSession.builder.appName('spark_task_4').getOrCreate()\n",
    "spark.sparkContext.setLogLevel('ERROR')"
   ]
  },
  {
   "cell_type": "markdown",
   "id": "juvenile-blame",
   "metadata": {},
   "source": [
    "read csv with inferschema"
   ]
  },
  {
   "cell_type": "code",
   "execution_count": 34,
   "id": "computational-liverpool",
   "metadata": {},
   "outputs": [],
   "source": [
    "df = spark.read.csv(PATH, header=True, inferSchema=True)\n",
    "\n"
   ]
  },
  {
   "cell_type": "markdown",
   "id": "stopped-dominant",
   "metadata": {},
   "source": [
    "read csv one more time with the same code and you will see that it almostly don't take time, because info already in SparkSession and it will not read nothing\n",
    "from this file"
   ]
  },
  {
   "cell_type": "code",
   "execution_count": 35,
   "id": "aging-neighborhood",
   "metadata": {},
   "outputs": [
    {
     "data": {
      "text/plain": "DataFrame[_c0: int, work_year: int, experience_level: string, employment_type: string, job_title: string, salary: int, salary_currency: string, salary_in_usd: int, employee_residence: string, remote_ratio: int, company_location: string, company_size: string]"
     },
     "execution_count": 35,
     "metadata": {},
     "output_type": "execute_result"
    }
   ],
   "source": [
    "df"
   ]
  },
  {
   "cell_type": "markdown",
   "id": "mature-tomorrow",
   "metadata": {},
   "source": [
    "write schema of scv on screen"
   ]
  },
  {
   "cell_type": "code",
   "execution_count": 36,
   "id": "least-communications",
   "metadata": {},
   "outputs": [
    {
     "name": "stdout",
     "output_type": "stream",
     "text": [
      "root\n",
      " |-- _c0: integer (nullable = true)\n",
      " |-- work_year: integer (nullable = true)\n",
      " |-- experience_level: string (nullable = true)\n",
      " |-- employment_type: string (nullable = true)\n",
      " |-- job_title: string (nullable = true)\n",
      " |-- salary: integer (nullable = true)\n",
      " |-- salary_currency: string (nullable = true)\n",
      " |-- salary_in_usd: integer (nullable = true)\n",
      " |-- employee_residence: string (nullable = true)\n",
      " |-- remote_ratio: integer (nullable = true)\n",
      " |-- company_location: string (nullable = true)\n",
      " |-- company_size: string (nullable = true)\n",
      "\n"
     ]
    }
   ],
   "source": [
    "df.printSchema()"
   ]
  },
  {
   "cell_type": "markdown",
   "id": "connected-brother",
   "metadata": {},
   "source": [
    "create schema of this scv"
   ]
  },
  {
   "cell_type": "code",
   "execution_count": 37,
   "id": "progressive-dictionary",
   "metadata": {},
   "outputs": [],
   "source": [
    "schema = StructType([\n",
    "    StructField('id', IntegerType(), True),\n",
    "    StructField('work_year', StringType(), True),\n",
    "    StructField('experience_level', StringType(), True),\n",
    "    StructField('employment_type', StringType(), True),\n",
    "    StructField('job_title', StringType(), True),\n",
    "    StructField('salary', IntegerType(), True),\n",
    "    StructField('salary_currency', StringType(), True),\n",
    "    StructField('salary_in_usd', IntegerType(), True),\n",
    "    StructField('employee_residence', StringType(), True),\n",
    "    StructField('remote_ratio', IntegerType(), True),\n",
    "    StructField('company_location', StringType(), True),\n",
    "    StructField('company_size', StringType(), True),\n",
    "])"
   ]
  },
  {
   "cell_type": "markdown",
   "id": "auburn-sauce",
   "metadata": {},
   "source": [
    "restart kernel without cleaning output and after restarting you need to initialize SparkSession, after initialize start execute only cells from cell with schema=\n",
    "=StructType.... \n",
    "To restart kernel click Kernel, Restart."
   ]
  },
  {
   "cell_type": "markdown",
   "id": "artistic-hospital",
   "metadata": {},
   "source": [
    "read ds_salaries with predefined schema and compare results from this cell and cell with inferSchema"
   ]
  },
  {
   "cell_type": "code",
   "execution_count": 38,
   "id": "literary-plaintiff",
   "metadata": {},
   "outputs": [
    {
     "name": "stdout",
     "output_type": "stream",
     "text": [
      "CPU times: user 382 µs, sys: 1.73 ms, total: 2.11 ms\n",
      "Wall time: 13.7 ms\n"
     ]
    }
   ],
   "source": [
    "%%time\n",
    "df_schema = spark.read.option(\"header\",True) \\\n",
    "               .schema(schema) \\\n",
    "               .csv(\"ds_salaries.csv\")"
   ]
  },
  {
   "cell_type": "markdown",
   "id": "senior-joint",
   "metadata": {},
   "source": [
    "this happens because read operation is lazy(transformation), but if you use inferschema it start to be action that will create Spark Job, because Spark need to loop throw all file to check datatypes for all columns and this can harm to your code(if we compare to parquet, it will also go to check data types, but parquet provide meta information, so Spark will not go throw all file, he will just read meta information, but csv don't provide such meta information). Also header make Spark to create one more Spark Job to check first line\n",
    "to define name of columns and remember to skeep it when reading. Actual reading start when you will use first action. More about Spark Jobs you will see in next topic"
   ]
  },
  {
   "cell_type": "markdown",
   "id": "underlying-assurance",
   "metadata": {},
   "source": [
    "write schema of scv on screen one more time and compare with previous"
   ]
  },
  {
   "cell_type": "code",
   "execution_count": 39,
   "id": "solid-infection",
   "metadata": {},
   "outputs": [
    {
     "name": "stdout",
     "output_type": "stream",
     "text": [
      "root\n",
      " |-- id: integer (nullable = true)\n",
      " |-- work_year: string (nullable = true)\n",
      " |-- experience_level: string (nullable = true)\n",
      " |-- employment_type: string (nullable = true)\n",
      " |-- job_title: string (nullable = true)\n",
      " |-- salary: integer (nullable = true)\n",
      " |-- salary_currency: string (nullable = true)\n",
      " |-- salary_in_usd: integer (nullable = true)\n",
      " |-- employee_residence: string (nullable = true)\n",
      " |-- remote_ratio: integer (nullable = true)\n",
      " |-- company_location: string (nullable = true)\n",
      " |-- company_size: string (nullable = true)\n",
      "\n"
     ]
    }
   ],
   "source": [
    "df_schema.printSchema()"
   ]
  },
  {
   "cell_type": "markdown",
   "id": "close-water",
   "metadata": {},
   "source": [
    "now continue to work with one of the dataframes that you create"
   ]
  },
  {
   "cell_type": "markdown",
   "id": "piano-belgium",
   "metadata": {},
   "source": [
    "print data in dataframe using df.show"
   ]
  },
  {
   "cell_type": "code",
   "execution_count": 40,
   "id": "legendary-alarm",
   "metadata": {},
   "outputs": [
    {
     "name": "stdout",
     "output_type": "stream",
     "text": [
      "+---+---------+----------------+---------------+--------------------+--------+---------------+-------------+------------------+------------+----------------+------------+\n",
      "| id|work_year|experience_level|employment_type|           job_title|  salary|salary_currency|salary_in_usd|employee_residence|remote_ratio|company_location|company_size|\n",
      "+---+---------+----------------+---------------+--------------------+--------+---------------+-------------+------------------+------------+----------------+------------+\n",
      "|  0|     2020|              MI|             FT|      Data Scientist|   70000|            EUR|        79833|                DE|           0|              DE|           L|\n",
      "|  1|     2020|              SE|             FT|Machine Learning ...|  260000|            USD|       260000|                JP|           0|              JP|           S|\n",
      "|  2|     2020|              SE|             FT|   Big Data Engineer|   85000|            GBP|       109024|                GB|          50|              GB|           M|\n",
      "|  3|     2020|              MI|             FT|Product Data Analyst|   20000|            USD|        20000|                HN|           0|              HN|           S|\n",
      "|  4|     2020|              SE|             FT|Machine Learning ...|  150000|            USD|       150000|                US|          50|              US|           L|\n",
      "|  5|     2020|              EN|             FT|        Data Analyst|   72000|            USD|        72000|                US|         100|              US|           L|\n",
      "|  6|     2020|              SE|             FT| Lead Data Scientist|  190000|            USD|       190000|                US|         100|              US|           S|\n",
      "|  7|     2020|              MI|             FT|      Data Scientist|11000000|            HUF|        35735|                HU|          50|              HU|           L|\n",
      "|  8|     2020|              MI|             FT|Business Data Ana...|  135000|            USD|       135000|                US|         100|              US|           L|\n",
      "|  9|     2020|              SE|             FT|  Lead Data Engineer|  125000|            USD|       125000|                NZ|          50|              NZ|           S|\n",
      "| 10|     2020|              EN|             FT|      Data Scientist|   45000|            EUR|        51321|                FR|           0|              FR|           S|\n",
      "| 11|     2020|              MI|             FT|      Data Scientist| 3000000|            INR|        40481|                IN|           0|              IN|           L|\n",
      "| 12|     2020|              EN|             FT|      Data Scientist|   35000|            EUR|        39916|                FR|           0|              FR|           M|\n",
      "| 13|     2020|              MI|             FT|   Lead Data Analyst|   87000|            USD|        87000|                US|         100|              US|           L|\n",
      "| 14|     2020|              MI|             FT|        Data Analyst|   85000|            USD|        85000|                US|         100|              US|           L|\n",
      "| 15|     2020|              MI|             FT|        Data Analyst|    8000|            USD|         8000|                PK|          50|              PK|           L|\n",
      "| 16|     2020|              EN|             FT|       Data Engineer| 4450000|            JPY|        41689|                JP|         100|              JP|           S|\n",
      "| 17|     2020|              SE|             FT|   Big Data Engineer|  100000|            EUR|       114047|                PL|         100|              GB|           S|\n",
      "| 18|     2020|              EN|             FT|Data Science Cons...|  423000|            INR|         5707|                IN|          50|              IN|           M|\n",
      "| 19|     2020|              MI|             FT|  Lead Data Engineer|   56000|            USD|        56000|                PT|         100|              US|           M|\n",
      "+---+---------+----------------+---------------+--------------------+--------+---------------+-------------+------------------+------------+----------------+------------+\n",
      "only showing top 20 rows\n",
      "\n"
     ]
    }
   ],
   "source": [
    "df_schema.show()"
   ]
  },
  {
   "cell_type": "markdown",
   "id": "tamil-medium",
   "metadata": {},
   "source": [
    "print data in dataframe using display(df.toPandas())"
   ]
  },
  {
   "cell_type": "code",
   "execution_count": 41,
   "id": "connected-dryer",
   "metadata": {},
   "outputs": [
    {
     "data": {
      "text/plain": "      id work_year experience_level employment_type  \\\n0      0      2020               MI              FT   \n1      1      2020               SE              FT   \n2      2      2020               SE              FT   \n3      3      2020               MI              FT   \n4      4      2020               SE              FT   \n..   ...       ...              ...             ...   \n602  602      2022               SE              FT   \n603  603      2022               SE              FT   \n604  604      2022               SE              FT   \n605  605      2022               SE              FT   \n606  606      2022               MI              FT   \n\n                      job_title  salary salary_currency  salary_in_usd  \\\n0                Data Scientist   70000             EUR          79833   \n1    Machine Learning Scientist  260000             USD         260000   \n2             Big Data Engineer   85000             GBP         109024   \n3          Product Data Analyst   20000             USD          20000   \n4     Machine Learning Engineer  150000             USD         150000   \n..                          ...     ...             ...            ...   \n602               Data Engineer  154000             USD         154000   \n603               Data Engineer  126000             USD         126000   \n604                Data Analyst  129000             USD         129000   \n605                Data Analyst  150000             USD         150000   \n606                AI Scientist  200000             USD         200000   \n\n    employee_residence  remote_ratio company_location company_size  \n0                   DE             0               DE            L  \n1                   JP             0               JP            S  \n2                   GB            50               GB            M  \n3                   HN             0               HN            S  \n4                   US            50               US            L  \n..                 ...           ...              ...          ...  \n602                 US           100               US            M  \n603                 US           100               US            M  \n604                 US             0               US            M  \n605                 US           100               US            M  \n606                 IN           100               US            L  \n\n[607 rows x 12 columns]",
      "text/html": "<div>\n<style scoped>\n    .dataframe tbody tr th:only-of-type {\n        vertical-align: middle;\n    }\n\n    .dataframe tbody tr th {\n        vertical-align: top;\n    }\n\n    .dataframe thead th {\n        text-align: right;\n    }\n</style>\n<table border=\"1\" class=\"dataframe\">\n  <thead>\n    <tr style=\"text-align: right;\">\n      <th></th>\n      <th>id</th>\n      <th>work_year</th>\n      <th>experience_level</th>\n      <th>employment_type</th>\n      <th>job_title</th>\n      <th>salary</th>\n      <th>salary_currency</th>\n      <th>salary_in_usd</th>\n      <th>employee_residence</th>\n      <th>remote_ratio</th>\n      <th>company_location</th>\n      <th>company_size</th>\n    </tr>\n  </thead>\n  <tbody>\n    <tr>\n      <th>0</th>\n      <td>0</td>\n      <td>2020</td>\n      <td>MI</td>\n      <td>FT</td>\n      <td>Data Scientist</td>\n      <td>70000</td>\n      <td>EUR</td>\n      <td>79833</td>\n      <td>DE</td>\n      <td>0</td>\n      <td>DE</td>\n      <td>L</td>\n    </tr>\n    <tr>\n      <th>1</th>\n      <td>1</td>\n      <td>2020</td>\n      <td>SE</td>\n      <td>FT</td>\n      <td>Machine Learning Scientist</td>\n      <td>260000</td>\n      <td>USD</td>\n      <td>260000</td>\n      <td>JP</td>\n      <td>0</td>\n      <td>JP</td>\n      <td>S</td>\n    </tr>\n    <tr>\n      <th>2</th>\n      <td>2</td>\n      <td>2020</td>\n      <td>SE</td>\n      <td>FT</td>\n      <td>Big Data Engineer</td>\n      <td>85000</td>\n      <td>GBP</td>\n      <td>109024</td>\n      <td>GB</td>\n      <td>50</td>\n      <td>GB</td>\n      <td>M</td>\n    </tr>\n    <tr>\n      <th>3</th>\n      <td>3</td>\n      <td>2020</td>\n      <td>MI</td>\n      <td>FT</td>\n      <td>Product Data Analyst</td>\n      <td>20000</td>\n      <td>USD</td>\n      <td>20000</td>\n      <td>HN</td>\n      <td>0</td>\n      <td>HN</td>\n      <td>S</td>\n    </tr>\n    <tr>\n      <th>4</th>\n      <td>4</td>\n      <td>2020</td>\n      <td>SE</td>\n      <td>FT</td>\n      <td>Machine Learning Engineer</td>\n      <td>150000</td>\n      <td>USD</td>\n      <td>150000</td>\n      <td>US</td>\n      <td>50</td>\n      <td>US</td>\n      <td>L</td>\n    </tr>\n    <tr>\n      <th>...</th>\n      <td>...</td>\n      <td>...</td>\n      <td>...</td>\n      <td>...</td>\n      <td>...</td>\n      <td>...</td>\n      <td>...</td>\n      <td>...</td>\n      <td>...</td>\n      <td>...</td>\n      <td>...</td>\n      <td>...</td>\n    </tr>\n    <tr>\n      <th>602</th>\n      <td>602</td>\n      <td>2022</td>\n      <td>SE</td>\n      <td>FT</td>\n      <td>Data Engineer</td>\n      <td>154000</td>\n      <td>USD</td>\n      <td>154000</td>\n      <td>US</td>\n      <td>100</td>\n      <td>US</td>\n      <td>M</td>\n    </tr>\n    <tr>\n      <th>603</th>\n      <td>603</td>\n      <td>2022</td>\n      <td>SE</td>\n      <td>FT</td>\n      <td>Data Engineer</td>\n      <td>126000</td>\n      <td>USD</td>\n      <td>126000</td>\n      <td>US</td>\n      <td>100</td>\n      <td>US</td>\n      <td>M</td>\n    </tr>\n    <tr>\n      <th>604</th>\n      <td>604</td>\n      <td>2022</td>\n      <td>SE</td>\n      <td>FT</td>\n      <td>Data Analyst</td>\n      <td>129000</td>\n      <td>USD</td>\n      <td>129000</td>\n      <td>US</td>\n      <td>0</td>\n      <td>US</td>\n      <td>M</td>\n    </tr>\n    <tr>\n      <th>605</th>\n      <td>605</td>\n      <td>2022</td>\n      <td>SE</td>\n      <td>FT</td>\n      <td>Data Analyst</td>\n      <td>150000</td>\n      <td>USD</td>\n      <td>150000</td>\n      <td>US</td>\n      <td>100</td>\n      <td>US</td>\n      <td>M</td>\n    </tr>\n    <tr>\n      <th>606</th>\n      <td>606</td>\n      <td>2022</td>\n      <td>MI</td>\n      <td>FT</td>\n      <td>AI Scientist</td>\n      <td>200000</td>\n      <td>USD</td>\n      <td>200000</td>\n      <td>IN</td>\n      <td>100</td>\n      <td>US</td>\n      <td>L</td>\n    </tr>\n  </tbody>\n</table>\n<p>607 rows × 12 columns</p>\n</div>"
     },
     "metadata": {},
     "output_type": "display_data"
    }
   ],
   "source": [
    "display(df_schema.toPandas())"
   ]
  },
  {
   "cell_type": "markdown",
   "id": "opponent-gazette",
   "metadata": {},
   "source": [
    "create df_job_title that consists from all job_titles without duplicates"
   ]
  },
  {
   "cell_type": "code",
   "execution_count": 42,
   "id": "friendly-cartridge",
   "metadata": {},
   "outputs": [],
   "source": [
    "df_job_title = df_schema.select('job_title').distinct()"
   ]
  },
  {
   "cell_type": "markdown",
   "id": "offshore-architecture",
   "metadata": {},
   "source": [
    "print all rows from df_job_titles without truncating jobs"
   ]
  },
  {
   "cell_type": "code",
   "execution_count": 43,
   "id": "asian-edition",
   "metadata": {},
   "outputs": [
    {
     "name": "stdout",
     "output_type": "stream",
     "text": [
      "+----------------------------------------+\n",
      "|job_title                               |\n",
      "+----------------------------------------+\n",
      "|3D Computer Vision Researcher           |\n",
      "|Lead Data Engineer                      |\n",
      "|Head of Machine Learning                |\n",
      "|Data Specialist                         |\n",
      "|Data Analytics Lead                     |\n",
      "|Machine Learning Scientist              |\n",
      "|Lead Data Analyst                       |\n",
      "|Data Engineering Manager                |\n",
      "|Staff Data Scientist                    |\n",
      "|ETL Developer                           |\n",
      "|Director of Data Engineering            |\n",
      "|Product Data Analyst                    |\n",
      "|Principal Data Scientist                |\n",
      "|AI Scientist                            |\n",
      "|Director of Data Science                |\n",
      "|Machine Learning Engineer               |\n",
      "|Lead Data Scientist                     |\n",
      "|Machine Learning Infrastructure Engineer|\n",
      "|Data Science Engineer                   |\n",
      "|Machine Learning Manager                |\n",
      "|Research Scientist                      |\n",
      "|Head of Data                            |\n",
      "|Cloud Data Engineer                     |\n",
      "|Machine Learning Developer              |\n",
      "|Data Scientist                          |\n",
      "|Finance Data Analyst                    |\n",
      "|Data Analyst                            |\n",
      "|Data Analytics Engineer                 |\n",
      "|Data Science Consultant                 |\n",
      "|Principal Data Engineer                 |\n",
      "|Lead Machine Learning Engineer          |\n",
      "|ML Engineer                             |\n",
      "|Analytics Engineer                      |\n",
      "|Data Science Manager                    |\n",
      "|Business Data Analyst                   |\n",
      "|Principal Data Analyst                  |\n",
      "|Applied Machine Learning Scientist      |\n",
      "|Financial Data Analyst                  |\n",
      "|Data Analytics Manager                  |\n",
      "|Computer Vision Engineer                |\n",
      "|Computer Vision Software Engineer       |\n",
      "|Big Data Engineer                       |\n",
      "|Head of Data Science                    |\n",
      "|NLP Engineer                            |\n",
      "|Big Data Architect                      |\n",
      "|Applied Data Scientist                  |\n",
      "|Data Architect                          |\n",
      "|BI Data Analyst                         |\n",
      "|Marketing Data Analyst                  |\n",
      "|Data Engineer                           |\n",
      "+----------------------------------------+\n",
      "\n"
     ]
    }
   ],
   "source": [
    "df_job_title.show(df_job_title.count(), truncate=False)"
   ]
  },
  {
   "cell_type": "markdown",
   "id": "interim-pharmacy",
   "metadata": {},
   "source": [
    "create  df_analytic that will consists from max, avg, min USD salaries for all job_titles using groupBy. name of fields is avg_salary, min_salary, max_salary"
   ]
  },
  {
   "cell_type": "code",
   "execution_count": 44,
   "id": "naval-roller",
   "metadata": {},
   "outputs": [],
   "source": [
    "df_analytic = df_schema.groupBy('job_title') \\\n",
    "        .agg(max('salary_in_usd').alias('max_salary'),\n",
    "            avg('salary_in_usd').alias('avg_salary'),\n",
    "            min('salary_in_usd').alias('min_salary')\n",
    "            )"
   ]
  },
  {
   "cell_type": "markdown",
   "id": "french-pledge",
   "metadata": {},
   "source": [
    "print all rows from df_analytic without trancating jobs"
   ]
  },
  {
   "cell_type": "code",
   "execution_count": 45,
   "id": "bacterial-depression",
   "metadata": {},
   "outputs": [
    {
     "name": "stdout",
     "output_type": "stream",
     "text": [
      "+----------------------------------------+----------+------------------+----------+\n",
      "|job_title                               |max_salary|avg_salary        |min_salary|\n",
      "+----------------------------------------+----------+------------------+----------+\n",
      "|3D Computer Vision Researcher           |5409      |5409.0            |5409      |\n",
      "|Lead Data Engineer                      |276000    |139724.5          |56000     |\n",
      "|Head of Machine Learning                |79039     |79039.0           |79039     |\n",
      "|Data Specialist                         |165000    |165000.0          |165000    |\n",
      "|Data Analytics Lead                     |405000    |405000.0          |405000    |\n",
      "|Machine Learning Scientist              |260000    |158412.5          |12000     |\n",
      "|Lead Data Analyst                       |170000    |92203.0           |19609     |\n",
      "|Data Engineering Manager                |174000    |123227.2          |59303     |\n",
      "|Staff Data Scientist                    |105000    |105000.0          |105000    |\n",
      "|ETL Developer                           |54957     |54957.0           |54957     |\n",
      "|Director of Data Engineering            |200000    |156738.0          |113476    |\n",
      "|Product Data Analyst                    |20000     |13036.0           |6072      |\n",
      "|Principal Data Scientist                |416000    |215242.42857142858|148261    |\n",
      "|AI Scientist                            |200000    |66135.57142857143 |12000     |\n",
      "|Director of Data Science                |325000    |195074.0          |130026    |\n",
      "|Machine Learning Engineer               |250000    |104880.14634146342|20000     |\n",
      "|Lead Data Scientist                     |190000    |115190.0          |40570     |\n",
      "|Machine Learning Infrastructure Engineer|195000    |101145.0          |50180     |\n",
      "|Data Science Engineer                   |127221    |75803.33333333333 |40189     |\n",
      "|Machine Learning Manager                |117104    |117104.0          |117104    |\n",
      "|Research Scientist                      |450000    |109019.5          |42000     |\n",
      "|Head of Data                            |235000    |160162.6          |32974     |\n",
      "|Cloud Data Engineer                     |160000    |124647.0          |89294     |\n",
      "|Machine Learning Developer              |100000    |85860.66666666667 |78791     |\n",
      "|Data Scientist                          |412000    |108187.83216783217|2859      |\n",
      "|Finance Data Analyst                    |61896     |61896.0           |61896     |\n",
      "|Data Analyst                            |200000    |92893.06185567011 |6072      |\n",
      "|Data Analytics Engineer                 |110000    |64799.25          |20000     |\n",
      "|Data Science Consultant                 |103000    |69420.71428571429 |5707      |\n",
      "|Principal Data Engineer                 |600000    |328333.3333333333 |185000    |\n",
      "|Lead Machine Learning Engineer          |87932     |87932.0           |87932     |\n",
      "|ML Engineer                             |270000    |117504.0          |15966     |\n",
      "|Analytics Engineer                      |205300    |175000.0          |135000    |\n",
      "|Data Science Manager                    |241000    |158328.5          |54094     |\n",
      "|Business Data Analyst                   |135000    |76691.2           |18442     |\n",
      "|Principal Data Analyst                  |170000    |122500.0          |75000     |\n",
      "|Applied Machine Learning Scientist      |423000    |142068.75         |31875     |\n",
      "|Financial Data Analyst                  |450000    |275000.0          |100000    |\n",
      "|Data Analytics Manager                  |150260    |127134.28571428571|105400    |\n",
      "|Computer Vision Engineer                |125000    |44419.333333333336|10000     |\n",
      "|Computer Vision Software Engineer       |150000    |105248.66666666667|70000     |\n",
      "|Big Data Engineer                       |114047    |51974.0           |5882      |\n",
      "|Head of Data Science                    |224000    |146718.75         |85000     |\n",
      "|NLP Engineer                            |37236     |37236.0           |37236     |\n",
      "|Big Data Architect                      |99703     |99703.0           |99703     |\n",
      "|Applied Data Scientist                  |380000    |175655.0          |54238     |\n",
      "|Data Architect                          |266400    |177873.9090909091 |90700     |\n",
      "|BI Data Analyst                         |150000    |74755.16666666667 |9272      |\n",
      "|Marketing Data Analyst                  |88654     |88654.0           |88654     |\n",
      "|Data Engineer                           |324000    |112725.0          |4000      |\n",
      "+----------------------------------------+----------+------------------+----------+\n",
      "\n"
     ]
    }
   ],
   "source": [
    "df_analytic.show(df_analytic.count(), truncate=False)"
   ]
  },
  {
   "cell_type": "markdown",
   "id": "hazardous-color",
   "metadata": {},
   "source": [
    "now you need to add in df_analytic column row_id, that will show order of all job_titles depending on avg salary. they should be descending"
   ]
  },
  {
   "cell_type": "code",
   "execution_count": 46,
   "id": "nearby-treasurer",
   "metadata": {},
   "outputs": [],
   "source": [
    "wndw_config = Window.orderBy(desc('avg_salary'))\n",
    "df_analytic = df_analytic.withColumn('row_id', row_number().over(wndw_config))"
   ]
  },
  {
   "cell_type": "markdown",
   "id": "documented-catalog",
   "metadata": {},
   "source": [
    "print all data from df_analytic"
   ]
  },
  {
   "cell_type": "code",
   "execution_count": 47,
   "id": "confirmed-monitoring",
   "metadata": {},
   "outputs": [
    {
     "name": "stdout",
     "output_type": "stream",
     "text": [
      "+--------------------+----------+------------------+----------+------+\n",
      "|           job_title|max_salary|        avg_salary|min_salary|row_id|\n",
      "+--------------------+----------+------------------+----------+------+\n",
      "| Data Analytics Lead|    405000|          405000.0|    405000|     1|\n",
      "|Principal Data En...|    600000| 328333.3333333333|    185000|     2|\n",
      "|Financial Data An...|    450000|          275000.0|    100000|     3|\n",
      "|Principal Data Sc...|    416000|215242.42857142858|    148261|     4|\n",
      "|Director of Data ...|    325000|          195074.0|    130026|     5|\n",
      "|      Data Architect|    266400| 177873.9090909091|     90700|     6|\n",
      "|Applied Data Scie...|    380000|          175655.0|     54238|     7|\n",
      "|  Analytics Engineer|    205300|          175000.0|    135000|     8|\n",
      "|     Data Specialist|    165000|          165000.0|    165000|     9|\n",
      "|        Head of Data|    235000|          160162.6|     32974|    10|\n",
      "|Machine Learning ...|    260000|          158412.5|     12000|    11|\n",
      "|Data Science Manager|    241000|          158328.5|     54094|    12|\n",
      "|Director of Data ...|    200000|          156738.0|    113476|    13|\n",
      "|Head of Data Science|    224000|         146718.75|     85000|    14|\n",
      "|Applied Machine L...|    423000|         142068.75|     31875|    15|\n",
      "|  Lead Data Engineer|    276000|          139724.5|     56000|    16|\n",
      "|Data Analytics Ma...|    150260|127134.28571428571|    105400|    17|\n",
      "| Cloud Data Engineer|    160000|          124647.0|     89294|    18|\n",
      "|Data Engineering ...|    174000|          123227.2|     59303|    19|\n",
      "|Principal Data An...|    170000|          122500.0|     75000|    20|\n",
      "+--------------------+----------+------------------+----------+------+\n",
      "only showing top 20 rows\n",
      "\n"
     ]
    }
   ],
   "source": [
    "df_analytic.show()"
   ]
  },
  {
   "cell_type": "markdown",
   "id": "satellite-quarter",
   "metadata": {},
   "source": [
    "it isn't beautifull, so we need to put now row_id on first place in df_analytic"
   ]
  },
  {
   "cell_type": "code",
   "execution_count": 48,
   "id": "ranging-tribune",
   "metadata": {},
   "outputs": [],
   "source": [
    "df_analytic = df_analytic.select('row_id', 'job_title', 'avg_salary', 'min_salary', 'max_salary')"
   ]
  },
  {
   "cell_type": "markdown",
   "id": "reliable-amsterdam",
   "metadata": {},
   "source": [
    "print df_analytic now"
   ]
  },
  {
   "cell_type": "code",
   "execution_count": 49,
   "id": "classical-biology",
   "metadata": {},
   "outputs": [
    {
     "name": "stdout",
     "output_type": "stream",
     "text": [
      "+------+--------------------+------------------+----------+----------+\n",
      "|row_id|           job_title|        avg_salary|min_salary|max_salary|\n",
      "+------+--------------------+------------------+----------+----------+\n",
      "|     1| Data Analytics Lead|          405000.0|    405000|    405000|\n",
      "|     2|Principal Data En...| 328333.3333333333|    185000|    600000|\n",
      "|     3|Financial Data An...|          275000.0|    100000|    450000|\n",
      "|     4|Principal Data Sc...|215242.42857142858|    148261|    416000|\n",
      "|     5|Director of Data ...|          195074.0|    130026|    325000|\n",
      "|     6|      Data Architect| 177873.9090909091|     90700|    266400|\n",
      "|     7|Applied Data Scie...|          175655.0|     54238|    380000|\n",
      "|     8|  Analytics Engineer|          175000.0|    135000|    205300|\n",
      "|     9|     Data Specialist|          165000.0|    165000|    165000|\n",
      "|    10|        Head of Data|          160162.6|     32974|    235000|\n",
      "|    11|Machine Learning ...|          158412.5|     12000|    260000|\n",
      "|    12|Data Science Manager|          158328.5|     54094|    241000|\n",
      "|    13|Director of Data ...|          156738.0|    113476|    200000|\n",
      "|    14|Head of Data Science|         146718.75|     85000|    224000|\n",
      "|    15|Applied Machine L...|         142068.75|     31875|    423000|\n",
      "|    16|  Lead Data Engineer|          139724.5|     56000|    276000|\n",
      "|    17|Data Analytics Ma...|127134.28571428571|    105400|    150260|\n",
      "|    18| Cloud Data Engineer|          124647.0|     89294|    160000|\n",
      "|    19|Data Engineering ...|          123227.2|     59303|    174000|\n",
      "|    20|Principal Data An...|          122500.0|     75000|    170000|\n",
      "+------+--------------------+------------------+----------+----------+\n",
      "only showing top 20 rows\n",
      "\n"
     ]
    }
   ],
   "source": [
    "df_analytic.show()"
   ]
  },
  {
   "cell_type": "markdown",
   "id": "hybrid-queensland",
   "metadata": {},
   "source": [
    "here you need to create df_exp_lvl with the biggest usd_salary(biggest_salary) for each experience_level(you need to save all fields like in entire dataframe)"
   ]
  },
  {
   "cell_type": "code",
   "execution_count": 50,
   "id": "dental-wrist",
   "metadata": {},
   "outputs": [],
   "source": [
    "wndw_config = Window.partitionBy('experience_level')\n",
    "df_exp_lvl = df_schema.withColumn('biggest_salary', max('salary_in_usd').over(wndw_config))\n"
   ]
  },
  {
   "cell_type": "markdown",
   "id": "innovative-hierarchy",
   "metadata": {},
   "source": [
    "print here df_exp_lvl"
   ]
  },
  {
   "cell_type": "code",
   "execution_count": 51,
   "id": "standing-toilet",
   "metadata": {},
   "outputs": [
    {
     "name": "stdout",
     "output_type": "stream",
     "text": [
      "+---+---------+----------------+---------------+--------------------+-------+---------------+-------------+------------------+------------+----------------+------------+--------------+\n",
      "| id|work_year|experience_level|employment_type|           job_title| salary|salary_currency|salary_in_usd|employee_residence|remote_ratio|company_location|company_size|biggest_salary|\n",
      "+---+---------+----------------+---------------+--------------------+-------+---------------+-------------+------------------+------------+----------------+------------+--------------+\n",
      "|  5|     2020|              EN|             FT|        Data Analyst|  72000|            USD|        72000|                US|         100|              US|           L|        250000|\n",
      "| 10|     2020|              EN|             FT|      Data Scientist|  45000|            EUR|        51321|                FR|           0|              FR|           S|        250000|\n",
      "| 12|     2020|              EN|             FT|      Data Scientist|  35000|            EUR|        39916|                FR|           0|              FR|           M|        250000|\n",
      "| 16|     2020|              EN|             FT|       Data Engineer|4450000|            JPY|        41689|                JP|         100|              JP|           S|        250000|\n",
      "| 18|     2020|              EN|             FT|Data Science Cons...| 423000|            INR|         5707|                IN|          50|              IN|           M|        250000|\n",
      "| 26|     2020|              EN|             FT|  Research Scientist|  42000|            USD|        42000|                NL|          50|              NL|           L|        250000|\n",
      "| 28|     2020|              EN|             CT|Business Data Ana...| 100000|            USD|       100000|                US|         100|              US|           L|        250000|\n",
      "| 31|     2020|              EN|             FT|   Big Data Engineer|  70000|            USD|        70000|                US|         100|              US|           L|        250000|\n",
      "| 37|     2020|              EN|             FT|Machine Learning ...| 250000|            USD|       250000|                US|          50|              US|           L|        250000|\n",
      "| 38|     2020|              EN|             FT|        Data Analyst|  10000|            USD|        10000|                NG|         100|              NG|           S|        250000|\n",
      "| 39|     2020|              EN|             FT|Machine Learning ...| 138000|            USD|       138000|                US|         100|              US|           S|        250000|\n",
      "| 45|     2020|              EN|             PT|         ML Engineer|  14000|            EUR|        15966|                DE|         100|              DE|           S|        250000|\n",
      "| 50|     2020|              EN|             FT|        Data Analyst| 450000|            INR|         6072|                IN|           0|              IN|           S|        250000|\n",
      "| 51|     2020|              EN|             FT|        Data Analyst|  91000|            USD|        91000|                US|         100|              US|           L|        250000|\n",
      "| 52|     2020|              EN|             FT|        AI Scientist| 300000|            DKK|        45896|                DK|          50|              DK|           S|        250000|\n",
      "| 53|     2020|              EN|             FT|       Data Engineer|  48000|            EUR|        54742|                PK|         100|              DE|           L|        250000|\n",
      "| 62|     2020|              EN|             PT|      Data Scientist|  19000|            EUR|        21669|                IT|          50|              IT|           S|        250000|\n",
      "| 65|     2020|              EN|             FT|      Data Scientist|  55000|            EUR|        62726|                DE|          50|              DE|           S|        250000|\n",
      "| 66|     2020|              EN|             FT|      Data Scientist|  43200|            EUR|        49268|                DE|           0|              DE|           S|        250000|\n",
      "| 68|     2020|              EN|             FT|      Data Scientist| 105000|            USD|       105000|                US|         100|              US|           S|        250000|\n",
      "+---+---------+----------------+---------------+--------------------+-------+---------------+-------------+------------------+------------+----------------+------------+--------------+\n",
      "only showing top 20 rows\n",
      "\n"
     ]
    }
   ],
   "source": [
    "df_exp_lvl.show()"
   ]
  },
  {
   "cell_type": "markdown",
   "id": "hawaiian-mortgage",
   "metadata": {},
   "source": [
    "create df_best that consists from rows where salary of guy same as biggest salary for other people in his exp_lvl and choose only columns: id, experience_level, biggest_salary, employee_residence"
   ]
  },
  {
   "cell_type": "code",
   "execution_count": 52,
   "id": "toxic-prompt",
   "metadata": {},
   "outputs": [],
   "source": [
    "df_best = df_exp_lvl.filter(col('salary_in_usd') == col('biggest_salary')).select('id', 'experience_level', 'biggest_salary', 'employee_residence')"
   ]
  },
  {
   "cell_type": "markdown",
   "id": "complex-librarian",
   "metadata": {},
   "source": [
    "print df_best"
   ]
  },
  {
   "cell_type": "code",
   "execution_count": 53,
   "id": "smart-texas",
   "metadata": {},
   "outputs": [
    {
     "name": "stdout",
     "output_type": "stream",
     "text": [
      "+---+----------------+--------------+------------------+\n",
      "| id|experience_level|biggest_salary|employee_residence|\n",
      "+---+----------------+--------------+------------------+\n",
      "| 37|              EN|        250000|                US|\n",
      "|252|              EX|        600000|                US|\n",
      "| 33|              MI|        450000|                US|\n",
      "| 97|              MI|        450000|                US|\n",
      "| 63|              SE|        412000|                US|\n",
      "+---+----------------+--------------+------------------+\n",
      "\n"
     ]
    }
   ],
   "source": [
    "df_best.show()"
   ]
  },
  {
   "cell_type": "markdown",
   "id": "integral-brass",
   "metadata": {},
   "source": [
    "drop duplicates if exist by experience_level"
   ]
  },
  {
   "cell_type": "code",
   "execution_count": 54,
   "id": "immune-marine",
   "metadata": {},
   "outputs": [],
   "source": [
    "df_best = df_best.dropDuplicates(['experience_level'])\n"
   ]
  },
  {
   "cell_type": "markdown",
   "id": "connected-credit",
   "metadata": {},
   "source": [
    "print df_best"
   ]
  },
  {
   "cell_type": "code",
   "execution_count": 55,
   "id": "specified-wellington",
   "metadata": {},
   "outputs": [
    {
     "name": "stdout",
     "output_type": "stream",
     "text": [
      "+---+----------------+--------------+------------------+\n",
      "| id|experience_level|biggest_salary|employee_residence|\n",
      "+---+----------------+--------------+------------------+\n",
      "| 37|              EN|        250000|                US|\n",
      "|252|              EX|        600000|                US|\n",
      "| 33|              MI|        450000|                US|\n",
      "| 63|              SE|        412000|                US|\n",
      "+---+----------------+--------------+------------------+\n",
      "\n"
     ]
    }
   ],
   "source": [
    "df_best.show()"
   ]
  },
  {
   "cell_type": "markdown",
   "id": "facial-plant",
   "metadata": {},
   "source": [
    "create df_new_best from df_best without id, and make the next: when exp_level = MI we want middle, when SE we want senior, else Null"
   ]
  },
  {
   "cell_type": "code",
   "execution_count": 56,
   "id": "infinite-retail",
   "metadata": {},
   "outputs": [],
   "source": [
    "df_new_best = df_best.withColumn('experience_level',\n",
    "                                       when(df_best.experience_level == 'MI', 'middle')\n",
    "                                      .when(df_best.experience_level == 'SE', 'senior')\n",
    "                                      .otherwise('Null')).drop('id')"
   ]
  },
  {
   "cell_type": "markdown",
   "id": "changing-fairy",
   "metadata": {},
   "source": [
    "print df_new_best"
   ]
  },
  {
   "cell_type": "code",
   "execution_count": 57,
   "id": "endless-framework",
   "metadata": {},
   "outputs": [
    {
     "name": "stdout",
     "output_type": "stream",
     "text": [
      "+----------------+--------------+------------------+\n",
      "|experience_level|biggest_salary|employee_residence|\n",
      "+----------------+--------------+------------------+\n",
      "|            Null|        250000|                US|\n",
      "|            Null|        600000|                US|\n",
      "|          middle|        450000|                US|\n",
      "|          senior|        412000|                US|\n",
      "+----------------+--------------+------------------+\n",
      "\n"
     ]
    }
   ],
   "source": [
    "df_new_best.show()"
   ]
  },
  {
   "cell_type": "markdown",
   "id": "mineral-status",
   "metadata": {},
   "source": [
    "write df_new_best like 1.csv and load then it to df_final"
   ]
  },
  {
   "cell_type": "code",
   "execution_count": 58,
   "id": "baking-progress",
   "metadata": {},
   "outputs": [],
   "source": [
    "df_new_best.write.csv('1/file', header=True)\n",
    "df_final = spark.read.csv('1/file', header=True, inferSchema=True)"
   ]
  },
  {
   "cell_type": "markdown",
   "id": "vocal-shooting",
   "metadata": {},
   "source": [
    "print df_final"
   ]
  },
  {
   "cell_type": "code",
   "execution_count": 59,
   "id": "expired-viewer",
   "metadata": {},
   "outputs": [
    {
     "name": "stdout",
     "output_type": "stream",
     "text": [
      "+----------------+--------------+------------------+\n",
      "|experience_level|biggest_salary|employee_residence|\n",
      "+----------------+--------------+------------------+\n",
      "|            Null|        250000|                US|\n",
      "|            Null|        600000|                US|\n",
      "|          middle|        450000|                US|\n",
      "|          senior|        412000|                US|\n",
      "+----------------+--------------+------------------+\n",
      "\n"
     ]
    }
   ],
   "source": [
    "df_final.show()"
   ]
  },
  {
   "cell_type": "markdown",
   "id": "nutritional-progress",
   "metadata": {},
   "source": [
    "filter df_final to delete experience_level where it Null, then join this table by biggest_salary(salary_in_usd) and employee_residence with entire df"
   ]
  },
  {
   "cell_type": "code",
   "execution_count": 60,
   "id": "small-polymer",
   "metadata": {},
   "outputs": [],
   "source": [
    "df_final = df_final.filter(df_final.experience_level != 'Null').join(df_schema,\n",
    "                        (df_final.biggest_salary == df_schema.salary_in_usd) &\n",
    "                        (df_final.employee_residence == df_schema.employee_residence), 'inner')"
   ]
  },
  {
   "cell_type": "markdown",
   "id": "variable-twins",
   "metadata": {},
   "source": [
    "print df_final"
   ]
  },
  {
   "cell_type": "code",
   "execution_count": 61,
   "id": "generic-block",
   "metadata": {},
   "outputs": [
    {
     "name": "stdout",
     "output_type": "stream",
     "text": [
      "+----------------+--------------+------------------+---+---------+----------------+---------------+--------------------+------+---------------+-------------+------------------+------------+----------------+------------+\n",
      "|experience_level|biggest_salary|employee_residence| id|work_year|experience_level|employment_type|           job_title|salary|salary_currency|salary_in_usd|employee_residence|remote_ratio|company_location|company_size|\n",
      "+----------------+--------------+------------------+---+---------+----------------+---------------+--------------------+------+---------------+-------------+------------------+------------+----------------+------------+\n",
      "|          middle|        450000|                US| 33|     2020|              MI|             FT|  Research Scientist|450000|            USD|       450000|                US|           0|              US|           M|\n",
      "|          senior|        412000|                US| 63|     2020|              SE|             FT|      Data Scientist|412000|            USD|       412000|                US|         100|              US|           L|\n",
      "|          middle|        450000|                US| 97|     2021|              MI|             FT|Financial Data An...|450000|            USD|       450000|                US|         100|              US|           L|\n",
      "+----------------+--------------+------------------+---+---------+----------------+---------------+--------------------+------+---------------+-------------+------------------+------------+----------------+------------+\n",
      "\n"
     ]
    }
   ],
   "source": [
    "df_final.show()"
   ]
  },
  {
   "cell_type": "markdown",
   "id": "variable-moore",
   "metadata": {},
   "source": [
    "last task is to save in variable and then print this variable of the biggest salary_in_usd from df_final"
   ]
  },
  {
   "cell_type": "code",
   "execution_count": 62,
   "outputs": [],
   "source": [
    "the_biggest_salary_usd = df_final.agg({'salary_in_usd':'max'})"
   ],
   "metadata": {
    "collapsed": false
   }
  },
  {
   "cell_type": "code",
   "execution_count": 63,
   "id": "individual-institution",
   "metadata": {},
   "outputs": [
    {
     "name": "stdout",
     "output_type": "stream",
     "text": [
      "+------------------+\n",
      "|max(salary_in_usd)|\n",
      "+------------------+\n",
      "|            450000|\n",
      "+------------------+\n",
      "\n"
     ]
    }
   ],
   "source": [
    "the_biggest_salary_usd.show()\n"
   ]
  },
  {
   "cell_type": "markdown",
   "id": "stopped-procedure",
   "metadata": {},
   "source": [
    "It is the end of PySpark basics. In other lessons you will learn optimizations technics and how to make distributed system"
   ]
  }
 ],
 "metadata": {
  "kernelspec": {
   "display_name": "Python 3",
   "language": "python",
   "name": "python3"
  },
  "language_info": {
   "codemirror_mode": {
    "name": "ipython",
    "version": 3
   },
   "file_extension": ".py",
   "mimetype": "text/x-python",
   "name": "python",
   "nbconvert_exporter": "python",
   "pygments_lexer": "ipython3",
   "version": "3.9.2"
  }
 },
 "nbformat": 4,
 "nbformat_minor": 5
}
